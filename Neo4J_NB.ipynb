{
 "cells": [
  {
   "cell_type": "markdown",
   "metadata": {},
   "source": [
    "# Big Data Modeling and Management Assigment - Homework 1"
   ]
  },
  {
   "cell_type": "markdown",
   "metadata": {},
   "source": [
    "## 🍺 The Beer project  🍺 \n",
    "\n",
    "As it was shown in classes, graph databases are a natural way of navegating distinct types of data. For this first project we will be taking a graph database to analyse beer and breweries!   \n",
    "\n",
    "_For reference the dataset used for this project has been extracted from [kaggle](https://www.kaggle.com/ehallmar/beers-breweries-and-beer-reviews), released by Evan Hallmark. Even though the author does not present metada on the origin of the data it is probably a collection of open data from places like [beeradvocate](https://www.beeradvocate.com/)_.\n",
    "\n",
    "### Problem description\n",
    "\n",
    "Explore the database via python neo4j connector and/or the graphical tool in the NEO4J webpage. Answer the questions. Submit the results by following the instructions\n",
    "\n",
    "\n",
    "### Questions\n",
    "\n",
    "1. How many different countries exist in the database?\n",
    "1. Most reviews:  \n",
    "    1. Which `Beer` has the most reviews?  \n",
    "    1. Which `Brewery` has the most reviews for its beers? [Hint: 5-node path]\n",
    "    1. Which `Country` has the most reviews for its beers? [Hint: 5-node path]\n",
    "1. Find the user/users that have the most shared reviews (reviews of the same beers) with the user CTJman?\n",
    "1. Which Portuguese brewery has the most beers?\n",
    "1. From those beers (the ones returned from the previous question), which has the most reviews?\n",
    "1. On average how many different beer styles does each brewery produce?\n",
    "1. Which brewery produces the strongest beers according to ABV? [Hint: database has NaN values]\n",
    "1. If I typically enjoy a beer due to its aroma and appearance, which beer style should I try? (Justify your answer well!) [Hint: database has NaN values]\n",
    "1. Using Graph Algorithms answer **one** of the following questions: [Hint: make sure to clear the graph before using it again]\n",
    "    1. Which two countries are most similiar when it comes to their **top 10** most produced Beer styles?\n",
    "    2. Which beer is the most influential when considering beers are conected by users who review them? [Please use limit of 1000 on beer-review-user path]]\n",
    "    3. Users are connected together by their reviews to beers, taking into consideration the \"overall\" score they review as a weight, how many communities are formed from these relationships? How many users has the biggest community? [Please use limit of 1000 on beer-review-user path]]\n",
    "1. Using Graph Algorithms answer **one** of the following questions:\n",
    "    1. Which beer has the most similar reviews as the beer `Super Bock Stout`? [Hint:inspect two subsets: with and without the beer in question]\n",
    "    2. Which user is the most influential when it comes to reviews made?\n",
    "1. If you had to pick 3 beers to recommend using only this database, which would you pick and why? (Justify your answer well!) [Hint: database has NaN values]\n",
    "\n",
    "\n",
    "Questions 8 to 10 are somewhat open, which means we'll also be evaluating the reasoning behind your answer. So there aren't necessarily bad results there are only wrong criteria, explanations or execution. \n",
    " \n",
    "### Groups  \n",
    "\n",
    "Groups should have 4 to 5 people.\n",
    "You should register your group on **moodle**.\n",
    "\n",
    "### Submission      \n",
    "\n",
    "The code used to produce the results and respective explations should be uploaded to moodle. They should have a clear reference to the group, either on the file name or on the document itself. Preferably one Jupyter notebook per group.\n",
    "\n",
    "Delivery date: Until the **midnight of March 13**\n",
    "\n",
    "### Evaluation   \n",
    "\n",
    "This will be 20% of the final grade.   \n",
    "Each solution will be evaluated on 2 components: correctness of results and simplicity of the solution.  \n",
    "All code will go through plagiarism automated checks. Groups with the same code will undergo investigation."
   ]
  },
  {
   "cell_type": "markdown",
   "metadata": {},
   "source": [
    "## Loading the Database\n",
    "\n",
    "#### Be sure that you **don't have** the neo4j docker container from the classes running (you can Stop it in the desktop app or with the command \"`docker stop Neo4JLab`\")\n",
    "\n",
    "\n",
    "The default container does not have any data whatsoever, we will have to load a database into our docker image:\n",
    "- Download and unzip the `Neo4JHWData` file provided in Moodle.\n",
    "- Copy the path of the `Neo4JHWData` folder of the unziped file, e.g. `C:/Users/nunoa/Desktop/Aulas/Big Data Management and Modelling/2023/HW1/Neo4JHWData/data`.\n",
    "- Download and unzip the `Neo4JPlugins` file provided in Moodle.\n",
    "- Copy the path of the `Neo4JPlugins` folder of the unziped file, e.g. `C:/Users/nunoa/Desktop/Aulas/Big Data Management and Modelling/2023/Neo4Jplugins`.\n",
    "- Change the code bellow accordingly. As you might have noticed, you do not have a user called `nunoa`, please use the appropriate path that you got from the previous step. Be sure that you have a neo4j docker container running: \\\n",
    "\n",
    "`docker run --name Neo4JHW -p 7474:7474 -p 7687:7687 -d -v \"C:/Users/nunoa/Desktop/Aulas/Big Data Management and Modelling/2023/Neo4Jplugins\":/plugins -v \"C:/Users/nunoa/Desktop/Aulas/Big Data Management and Modelling/2023/HW1/Neo4JHWData/data\":/data --env NEO4J_AUTH=neo4j/test --env NEO4J_dbms_connector_https_advertised__address=\"localhost:7473\" --env NEO4J_dbms_connector_http_advertised__address=\"localhost:7474\" --env NEO4J_dbms_connector_bolt_advertised__address=\"localhost:7687\" --env NEO4J_dbms_security_procedures_unrestricted=gds.* --env NEO4J_dbms_security_procedures_allowlist=gds.* neo4j`\n",
    "\n",
    "- Since Neo4j is trying to recognize a new database folder, this might take a bit (let's say 3 minutes), so don't worry."
   ]
  },
  {
   "cell_type": "code",
   "execution_count": 1,
   "metadata": {},
   "outputs": [],
   "source": [
    "from neo4j import GraphDatabase\n",
    "from pprint import pprint"
   ]
  },
  {
   "cell_type": "code",
   "execution_count": 2,
   "metadata": {},
   "outputs": [],
   "source": [
    "# We assigned a different port in order to be able to run two Neo4J dockers at the same time\n",
    "NEO4J_URI=\"neo4j://localhost:8687\"\n",
    "NEO4J_USERNAME=\"neo4j\"\n",
    "NEO4J_PASSWORD=\"test\""
   ]
  },
  {
   "cell_type": "code",
   "execution_count": 3,
   "metadata": {},
   "outputs": [],
   "source": [
    "driver = GraphDatabase.driver(NEO4J_URI, auth=(NEO4J_USERNAME, NEO4J_PASSWORD), )"
   ]
  },
  {
   "cell_type": "markdown",
   "metadata": {},
   "source": [
    "### All The Functions you'll need to run queries in Neo4J"
   ]
  },
  {
   "cell_type": "code",
   "execution_count": 4,
   "metadata": {},
   "outputs": [],
   "source": [
    "def execute_read(driver, query):    \n",
    "    with driver.session(database=\"neo4j\") as session:\n",
    "        result = session.execute_read(lambda tx, query: list(tx.run(query)), query)\n",
    "    return result"
   ]
  },
  {
   "cell_type": "markdown",
   "metadata": {},
   "source": [
    "### Understanding the Database"
   ]
  },
  {
   "cell_type": "code",
   "execution_count": 5,
   "metadata": {},
   "outputs": [
    {
     "name": "stdout",
     "output_type": "stream",
     "text": [
      "[<Record label='COUNTRIES'>,\n",
      " <Record label='CITIES'>,\n",
      " <Record label='BREWERIES'>,\n",
      " <Record label='BEERS'>,\n",
      " <Record label='REVIEWS'>,\n",
      " <Record label='STYLE'>,\n",
      " <Record label='USER'>,\n",
      " <Record label='bdmmREVIEWS'>,\n",
      " <Record label='bdmmUSER'>,\n",
      " <Record label='bdmmBEERS'>]\n"
     ]
    }
   ],
   "source": [
    "query = \"\"\"\n",
    "        call db.labels();\n",
    "    \"\"\"\n",
    "\n",
    "result = execute_read(driver, query)\n",
    "\n",
    "pprint(result)"
   ]
  },
  {
   "cell_type": "code",
   "execution_count": 6,
   "metadata": {},
   "outputs": [
    {
     "name": "stdout",
     "output_type": "stream",
     "text": [
      "[<Record relationshipType='REVIEWED'>,\n",
      " <Record relationshipType='BREWED'>,\n",
      " <Record relationshipType='IN'>,\n",
      " <Record relationshipType='HAS_STYLE'>,\n",
      " <Record relationshipType='POSTED'>,\n",
      " <Record relationshipType='bdmmREVIEWED'>,\n",
      " <Record relationshipType='bdmmPOSTED'>]\n"
     ]
    }
   ],
   "source": [
    "query = \"\"\"\n",
    "        CALL db.relationshipTypes();\n",
    "    \"\"\"\n",
    "\n",
    "result = execute_read(driver, query)\n",
    "\n",
    "pprint(result)"
   ]
  },
  {
   "cell_type": "markdown",
   "metadata": {},
   "source": [
    "# Submission\n",
    "\n",
    "GROUP NUMBER:\n",
    "\n",
    "**17**\n",
    "\n",
    "GROUP MEMBERS:\n",
    "\n",
    "|STUDENT NUMBER|STUDENT NAME|\n",
    "|---|---|\n",
    "|20220609|Samuel Santos|\n",
    "|20221385|Felix Gaber|\n",
    "|XXXXXX|XXXXXX|\n",
    "|XXXXXX|XXXXXX|"
   ]
  },
  {
   "cell_type": "code",
   "execution_count": 7,
   "metadata": {},
   "outputs": [],
   "source": [
    "# In several questions we want to filter for beers that are still in production.\n",
    "# In all cases, we what to check his variable will be used in those cases.\n",
    "\n",
    "retired = 'f'\n"
   ]
  },
  {
   "cell_type": "markdown",
   "metadata": {},
   "source": [
    "#### 1. How many different countries exist in the database?"
   ]
  },
  {
   "cell_type": "code",
   "execution_count": 8,
   "metadata": {},
   "outputs": [
    {
     "name": "stdout",
     "output_type": "stream",
     "text": [
      "[<Record number_countries=200>]\n"
     ]
    }
   ],
   "source": [
    "# Count nodes of type COUNTRIES\n",
    "\n",
    "query = \"\"\"\n",
    "        MATCH (c:COUNTRIES)\n",
    "        RETURN count(c) AS number_countries\n",
    "    \"\"\"\n",
    "\n",
    "result = execute_read(driver, query)\n",
    "\n",
    "pprint(result)"
   ]
  },
  {
   "cell_type": "markdown",
   "metadata": {},
   "source": [
    "#### 2. Most reviews:  \n",
    "    A) Which `Beer` has the most reviews?  \n",
    "    B) Which `Brewery` has the most reviews for its beers?\n",
    "    C) Which `Country` has the most reviews for its beers? "
   ]
  },
  {
   "cell_type": "code",
   "execution_count": 9,
   "metadata": {},
   "outputs": [
    {
     "name": "stdout",
     "output_type": "stream",
     "text": [
      "[<Record b.name='Breakfast Stout' b.id='11757' number_reviews=17160>]\n"
     ]
    }
   ],
   "source": [
    "# Count nodes of type REVIEWS that are connected to nodes of type BEER.\n",
    "# Order by the count, descending, and return just the first one\n",
    "\n",
    "query = \"\"\"\n",
    "MATCH (b:BEERS)-[:REVIEWED]->(r:REVIEWS)\n",
    "RETURN b.name, b.id, COUNT(r) AS number_reviews\n",
    "ORDER BY number_reviews DESC\n",
    "LIMIT 1\n",
    "    \"\"\"\n",
    "\n",
    "result = execute_read(driver, query)\n",
    "\n",
    "pprint(result)"
   ]
  },
  {
   "cell_type": "code",
   "execution_count": 10,
   "metadata": {},
   "outputs": [
    {
     "name": "stdout",
     "output_type": "stream",
     "text": [
      "[<Record br.name='Sierra Nevada Brewing Co.' br.id='140' number_reviews=175161>]\n"
     ]
    }
   ],
   "source": [
    "# Same logic, but for breweries\n",
    "\n",
    "query = \"\"\"\n",
    "MATCH (br:BREWERIES)-[]->(b:BEERS)-[]->(r:REVIEWS)\n",
    "RETURN br.name, br.id, COUNT(r) AS number_reviews\n",
    "ORDER BY number_reviews DESC\n",
    "LIMIT 1\n",
    "    \"\"\"\n",
    "\n",
    "result = execute_read(driver, query)\n",
    "\n",
    "pprint(result)"
   ]
  },
  {
   "cell_type": "code",
   "execution_count": 11,
   "metadata": {},
   "outputs": [
    {
     "name": "stdout",
     "output_type": "stream",
     "text": [
      "[<Record c.name='US' number_reviews=7675804>]\n"
     ]
    }
   ],
   "source": [
    "# Same logic, but for countries, accounting for the extra relations involved\n",
    "\n",
    "query = \"\"\"\n",
    "MATCH (c:COUNTRIES)<-[]-(:CITIES)<-[]-(br:BREWERIES)-[]->(b:BEERS)-[]->(r:REVIEWS)\n",
    "RETURN c.name, COUNT(r) AS number_reviews\n",
    "ORDER BY number_reviews DESC\n",
    "LIMIT 1\n",
    "    \"\"\"\n",
    "\n",
    "result = execute_read(driver, query)\n",
    "\n",
    "pprint(result)"
   ]
  },
  {
   "cell_type": "markdown",
   "metadata": {},
   "source": [
    "#### 3. Find the user/users that have the most shared reviews (reviews of the same beers) with the user CTJman?"
   ]
  },
  {
   "cell_type": "code",
   "execution_count": 12,
   "metadata": {},
   "outputs": [
    {
     "name": "stdout",
     "output_type": "stream",
     "text": [
      "[<Record user='acurtis' num_shared_reviews=1428>]\n"
     ]
    }
   ],
   "source": [
    "# Connect user CTJman to other users, through the BEERs that each of them reviewed.\n",
    "# Return the top count\n",
    "\n",
    "username = 'CTJman'\n",
    "\n",
    "query = f\"\"\"\n",
    "MATCH (u1:USER {{name: '{username}' }})<-[:POSTED]-(r1:REVIEWS)<-[:REVIEWED]-(b:BEERS)-[:REVIEWED]->(r2:REVIEWS)-[:POSTED]->(u2:USER)\n",
    "WITH u2, count(r2) as num_shared_reviews\n",
    "ORDER BY num_shared_reviews DESC\n",
    "RETURN u2.name AS user, num_shared_reviews\n",
    "LIMIT 1\n",
    "    \"\"\"\n",
    "\n",
    "result = execute_read(driver, query)\n",
    "\n",
    "pprint(result)"
   ]
  },
  {
   "cell_type": "markdown",
   "metadata": {},
   "source": [
    "#### 4. Which Portuguese brewery has the most beers?\n"
   ]
  },
  {
   "cell_type": "code",
   "execution_count": 13,
   "metadata": {},
   "outputs": [
    {
     "name": "stdout",
     "output_type": "stream",
     "text": [
      "[<Record brewery='Dois Corvos Cervejeira' num_beers=40>]\n"
     ]
    }
   ],
   "source": [
    "# Connect countries to beers, filter by country = PT, then\n",
    "# count beers by brewery and return the one with the highest count.\n",
    "\n",
    "country = 'PT'\n",
    "\n",
    "query = f\"\"\"\n",
    "MATCH (c:COUNTRIES {{name: '{country}'}})<-[]-(:CITIES)<-[:IN]-(b:BREWERIES)-[:BREWED]->(beer:BEERS) \n",
    "RETURN b.name AS brewery, count(beer) as num_beers\n",
    "ORDER BY num_beers DESC\n",
    "LIMIT 1\n",
    "    \"\"\"\n",
    "\n",
    "result = execute_read(driver, query)\n",
    "\n",
    "pprint(result)"
   ]
  },
  {
   "cell_type": "markdown",
   "metadata": {},
   "source": [
    "#### 5. From those beers (the ones produced in the brewery from the previous question), which has the most reviews?\n"
   ]
  },
  {
   "cell_type": "code",
   "execution_count": 14,
   "metadata": {},
   "outputs": [
    {
     "name": "stdout",
     "output_type": "stream",
     "text": [
      "[<Record beer='Finisterra' num_reviews=10>]\n"
     ]
    }
   ],
   "source": [
    "# Start with the previous query to get the top brewery\n",
    "# Connect the beers from this brewery to the reviews, and\n",
    "# return the beer that has the most reviews\n",
    "\n",
    "query = f\"\"\"\n",
    "MATCH (c:COUNTRIES {{name:'{country}'}})<-[:IN]-(:CITIES)<-[:IN]-(b:BREWERIES)-[:BREWED]->(beer:BEERS)\n",
    "WITH b, count(beer) as num_beers\n",
    "ORDER BY num_beers DESC\n",
    "LIMIT 1\n",
    "MATCH (b)-[:BREWED]->(beer:BEERS)-[:REVIEWED]->(r:REVIEWS)\n",
    "RETURN beer.name AS beer, count(r) as num_reviews\n",
    "ORDER BY num_reviews DESC\n",
    "LIMIT 1\n",
    "    \"\"\"\n",
    "\n",
    "result = execute_read(driver, query)\n",
    "\n",
    "pprint(result)"
   ]
  },
  {
   "cell_type": "markdown",
   "metadata": {},
   "source": [
    "#### 6. On average how many different beer styles does each brewery produce?"
   ]
  },
  {
   "cell_type": "code",
   "execution_count": 15,
   "metadata": {},
   "outputs": [
    {
     "name": "stdout",
     "output_type": "stream",
     "text": [
      "[<Record avg_num_styles=9.332362897765716>]\n"
     ]
    }
   ],
   "source": [
    "# We included only non-retired beers, because the question is asked in present tense (not past tense)\n",
    "# Connect breweries to styles, through the relation with beer.\n",
    "# group by brewery, count the number of beer styles, then average that count\n",
    "\n",
    "query = f\"\"\"\n",
    "MATCH (b:BREWERIES)-[:BREWED]->(beer:BEERS {{retired:'{retired}'}})-[:HAS_STYLE]->(s:STYLE)\n",
    "WITH b, count(DISTINCT s.name) AS num_styles\n",
    "RETURN avg(num_styles) AS avg_num_styles\n",
    "    \"\"\"\n",
    "\n",
    "result = execute_read(driver, query)\n",
    "\n",
    "pprint(result)"
   ]
  },
  {
   "cell_type": "markdown",
   "metadata": {},
   "source": [
    "#### 7. Which brewery produces the strongest beers according to ABV?"
   ]
  },
  {
   "cell_type": "code",
   "execution_count": 16,
   "metadata": {},
   "outputs": [
    {
     "name": "stdout",
     "output_type": "stream",
     "text": [
      "[<Record brewery='1648 Brewing Company Ltd' avg_abv=51.949999999999996>]\n"
     ]
    }
   ],
   "source": [
    "# we included only non-retired beers, because the question is asked in present tense (not past tense)\n",
    "# We interpret that the brewery that produces the strongest beers is the one that has\n",
    "# a higher average rate in ABV (they may not produce the strongest beer, though)\n",
    "\n",
    "query = f\"\"\"\n",
    "MATCH (b:BREWERIES)-[:BREWED]->(beer:BEERS{{retired:'{retired}'}})\n",
    "WHERE beer.abv <> 'nan'\n",
    "RETURN b.name AS brewery, avg(toFloat(beer.abv)) as avg_abv\n",
    "ORDER BY avg_abv DESC\n",
    "LIMIT 1\n",
    "    \"\"\"\n",
    "\n",
    "result = execute_read(driver, query)\n",
    "\n",
    "pprint(result)"
   ]
  },
  {
   "cell_type": "markdown",
   "metadata": {},
   "source": [
    "#### 8. If I typically enjoy a beer due to its aroma and appearance, which beer style should I try?"
   ]
  },
  {
   "cell_type": "code",
   "execution_count": 17,
   "metadata": {},
   "outputs": [
    {
     "name": "stdout",
     "output_type": "stream",
     "text": [
      "[<Record beer_style='New England IPA' aroma_appearence_score=8.797210377972341>]\n"
     ]
    }
   ],
   "source": [
    "# we interpret aroma as \"smell\" and apperance as \"look\". So, we want to maximize their sum.\n",
    "# We checked what's the style whose beers average a higher sum of look and smell is highest;\n",
    "# we will want to try some beer of this style.\n",
    "\n",
    "query = \"\"\"\n",
    "MATCH (s:STYLE)<-[:HAS_STYLE]-(b:BEERS)-[:REVIEWED]->(r:REVIEWS)\n",
    "WHERE r.look <> 'nan' AND r.smell <> 'nan'\n",
    "WITH s.name as beer_style, avg(toFloat(r.look) + toFloat(r.smell)) as aroma_appearence_score\n",
    "RETURN beer_style, aroma_appearence_score\n",
    "ORDER BY aroma_appearence_score DESC\n",
    "LIMIT 1\n",
    "\"\"\"\n",
    "\n",
    "result = execute_read(driver, query)\n",
    "\n",
    "pprint(result)\n",
    "\n"
   ]
  },
  {
   "cell_type": "markdown",
   "metadata": {},
   "source": [
    "#### 9. Using Graph Algorithms answer **one** of the following questions:\n",
    "    1. Which two countries are most similiar when it comes to their **top 10** most produced Beer styles?\n",
    "    2. Which beer is the most influential when considering beers are conected by users who review them?\n",
    "    3. Users are connected together by their reviews to beers, taking into consideration the \"overall\" score they review as a weight, how many communities are formed from these relationships? How many users has the biggest community?"
   ]
  },
  {
   "cell_type": "markdown",
   "metadata": {},
   "source": [
    "##### Question 9.1"
   ]
  },
  {
   "cell_type": "code",
   "execution_count": 18,
   "metadata": {},
   "outputs": [
    {
     "name": "stdout",
     "output_type": "stream",
     "text": [
      "ClientError('Failed to invoke procedure `gds.graph.drop`: Caused by: java.util.NoSuchElementException: Graph with name `node_similarity_algo` does not exist on database `neo4j`. It might exist on another database.')\n"
     ]
    }
   ],
   "source": [
    "# Step 0 - Clear graph\n",
    "\n",
    "try:\n",
    "    query = \"\"\"\n",
    "            CALL gds.graph.drop('node_similarity_algo') YIELD graphName;\n",
    "        \"\"\"\n",
    "\n",
    "    result = execute_read(driver, query)\n",
    "\n",
    "    pprint(result)\n",
    "except Exception as e:\n",
    "    pprint(e)"
   ]
  },
  {
   "cell_type": "code",
   "execution_count": 19,
   "metadata": {},
   "outputs": [
    {
     "name": "stdout",
     "output_type": "stream",
     "text": [
      "[<Record nodeQuery=\"MATCH (n) where head(Labels(n))='COUNTRIES' or head(Labels(n))='STYLE' RETURN id(n) AS id\" relationshipQuery=\"MATCH (c1:COUNTRIES)<-[]-(:CITIES)<-[]-(:BREWERIES)-[]->(b1:BEERS)-[]->(s1:STYLE)\\n            WHERE c1.name <> 'nan'\\n            WITH c1, s1, count(distinct  b1.id) as nbeers_per_style\\n            ORDER BY c1, nbeers_per_style desc\\n            WITH c1, COLLECT(s1)[0..10] as top10_1\\n\\n            UNWIND top10_1 as styleb\\n\\n            return id(c1) as source, id(styleb) as target\" graphName='node_similarity_algo' nodeCount=313 relationshipCount=1408 projectMillis=15302>]\n"
     ]
    }
   ],
   "source": [
    "# Step 1 - Create an appropriate graph\n",
    "# Which two countries are most similiar when it comes to their **top 10** most produced Beer styles?\n",
    "# We connected countries to styles, through breweries and beers.\n",
    "# We filtered out countries whose name is 'nan'\n",
    "# We then grouped the results by country and style, and counted the number of distinct beers\n",
    "# for that combination of country + style (nbeers_per_style).\n",
    "# We then created a list with the 10 styles with the highest number of beers\n",
    "# This result presented a group of up to 10 styles associated with the country.\n",
    "# We used UNWIND to unfold this records, creating a list with country + style\n",
    "# To prepare for the algorithm, we then extract the IDs for\n",
    "# both country as source and style as target\n",
    "\n",
    "\n",
    "try:\n",
    "    query = \"\"\"\n",
    "        CALL gds.graph.project.cypher(\n",
    "            'node_similarity_algo',\n",
    "            \"MATCH (n) where head(Labels(n))='COUNTRIES' or head(Labels(n))='STYLE' RETURN id(n) AS id\",\n",
    "            \n",
    "            \"MATCH (c1:COUNTRIES)<-[]-(:CITIES)<-[]-(:BREWERIES)-[]->(b1:BEERS)-[]->(s1:STYLE)\n",
    "            WHERE c1.name <> 'nan'\n",
    "            WITH c1, s1, count(distinct  b1.id) as nbeers_per_style\n",
    "            ORDER BY c1, nbeers_per_style desc\n",
    "            WITH c1, COLLECT(s1)[0..10] as top10_1\n",
    "\n",
    "            UNWIND top10_1 as styleb\n",
    "\n",
    "            return id(c1) as source, id(styleb) as target\"\n",
    "            )\n",
    "        \"\"\"\n",
    "\n",
    "    result = execute_read(driver, query)\n",
    "\n",
    "    pprint(result)\n",
    "except Exception as e:\n",
    "    pprint(e)"
   ]
  },
  {
   "cell_type": "code",
   "execution_count": 20,
   "metadata": {},
   "outputs": [
    {
     "name": "stdout",
     "output_type": "stream",
     "text": [
      "[<Record Country1='AU' Country2='NZ' similarity=1.0>]\n"
     ]
    }
   ],
   "source": [
    "# Step 2 - Run the algorithm\n",
    "# We identified that there are more than two countries with a top similarity of 1.0.\n",
    "# We investivated and confirmed that, indeed, these are countries whose top-10 list of styles\n",
    "# includes the exact same styles (we understood that there was no requirement for the\n",
    "# list to be in the exact same order, just to include the same styles)\n",
    "\n",
    "\n",
    "try:\n",
    "    query = \"\"\"\n",
    "        CALL gds.nodeSimilarity.stream('node_similarity_algo')\n",
    "            YIELD node1, node2, similarity\n",
    "            with gds.util.asNode(node1).name AS Country1, gds.util.asNode(node2).name AS Country2, similarity\n",
    "            RETURN Country1, Country2, similarity\n",
    "            ORDER BY similarity DESCENDING\n",
    "            limit 1\n",
    "        \"\"\"\n",
    "\n",
    "    result = execute_read(driver, query)\n",
    "\n",
    "    pprint(result)\n",
    "except Exception as e:\n",
    "    pprint(e)"
   ]
  },
  {
   "cell_type": "markdown",
   "metadata": {},
   "source": [
    "#### 10. Using Graph Algorithms answer **one** of the following questions:\n",
    "    1. Which beer has the most similar reviews as the beer `Super Bock Stout`?\n",
    "    2. Which user is the most influential when it comes to reviews made?"
   ]
  },
  {
   "cell_type": "markdown",
   "metadata": {},
   "source": [
    "##### 10.2"
   ]
  },
  {
   "cell_type": "code",
   "execution_count": 21,
   "metadata": {},
   "outputs": [
    {
     "name": "stdout",
     "output_type": "stream",
     "text": [
      "ClientError('Failed to invoke procedure `gds.graph.drop`: Caused by: java.util.NoSuchElementException: Graph with name `most_infl_user` does not exist on database `neo4j`. It might exist on another database.')\n"
     ]
    }
   ],
   "source": [
    "# Step 0 - Clear graph\n",
    "\n",
    "try:\n",
    "    query = \"\"\"\n",
    "            CALL gds.graph.drop('most_infl_user') YIELD graphName;\n",
    "        \"\"\"\n",
    "\n",
    "    result = execute_read(driver, query)\n",
    "\n",
    "    pprint(result)\n",
    "except Exception as e:\n",
    "    pprint(e)"
   ]
  },
  {
   "cell_type": "code",
   "execution_count": 22,
   "metadata": {},
   "outputs": [
    {
     "name": "stdout",
     "output_type": "stream",
     "text": [
      "[<Record nodeQuery=\"MATCH (n) where head(Labels(n))='USER' or head(Labels(n))='REVIEWS' RETURN id(n) AS id\" relationshipQuery=\"MATCH (u1:USER)<-[:POSTED]-(r1:REVIEWS)\\n        WHERE u1.name <> 'nan'\\n        RETURN id(r1) AS source, id(u1) AS target\" graphName='most_infl_user' nodeCount=9238044 relationshipCount=9069294 projectMillis=35733>]\n"
     ]
    }
   ],
   "source": [
    "# We connected users to reviews, excluding users with name 'nan'\n",
    "# We then obtained the list of IDs for reviews as source, and users as target\n",
    "\n",
    "try:\n",
    "    query = \"\"\"\n",
    "        CALL gds.graph.project.cypher(\n",
    "        'most_infl_user',\n",
    "        \"MATCH (n) where head(Labels(n))='USER' or head(Labels(n))='REVIEWS' RETURN id(n) AS id\",\n",
    "        \n",
    "        \"MATCH (u1:USER)<-[:POSTED]-(r1:REVIEWS)\n",
    "        WHERE u1.name <> 'nan'\n",
    "        RETURN id(r1) AS source, id(u1) AS target\"\n",
    "        );\n",
    "        \"\"\"\n",
    "\n",
    "    result = execute_read(driver, query)\n",
    "\n",
    "    pprint(result)\n",
    "    \n",
    "except Exception as e:\n",
    "    pprint(e)"
   ]
  },
  {
   "cell_type": "code",
   "execution_count": 23,
   "metadata": {},
   "outputs": [
    {
     "name": "stdout",
     "output_type": "stream",
     "text": [
      "[<Record user='Sammy' score=1759.2675000004458>]\n"
     ]
    }
   ],
   "source": [
    "# We used the pageRank algorithm to check which user is most influential\n",
    "# in terms of its reviews.\n",
    "\n",
    "try:\n",
    "    query = \"\"\"\n",
    "    CALL gds.pageRank.stream('most_infl_user') \n",
    "    YIELD nodeId, score\n",
    "    RETURN gds.util.asNode(nodeId).name AS user, score\n",
    "    ORDER BY score DESC\n",
    "    LIMIT 1;\n",
    "    \"\"\"\n",
    "\n",
    "    result = execute_read(driver, query)\n",
    "\n",
    "    pprint(result)\n",
    "    \n",
    "except Exception as e:\n",
    "    pprint(e)"
   ]
  },
  {
   "cell_type": "markdown",
   "metadata": {},
   "source": [
    "#### 11. If you had to pick 3 beers to recommend using only this database, which would you pick and why?"
   ]
  },
  {
   "cell_type": "code",
   "execution_count": 24,
   "metadata": {},
   "outputs": [
    {
     "name": "stdout",
     "output_type": "stream",
     "text": [
      "[<Record top100.name='Heady Topper' avgscore=4.713771880688968 count(*)=14282>,\n",
      " <Record top100.name='Bourbon County Brand Coffee Stout' avgscore=4.674392905866312 count(*)=7330>,\n",
      " <Record top100.name='Pliny The Elder' avgscore=4.6447993568701005 count(*)=14927>]\n"
     ]
    }
   ],
   "source": [
    "# We can only try beers that are still being produced\n",
    "\n",
    "# As no specific preference has been indicated, the selection of recommended beers will be\n",
    "# based solely on the \"score\" of the reviews.\n",
    "# To ensure greater accuracy, we have chosen to use the \"score\" metric rather than \n",
    "# the rounded \"overall\" metric, which is rounded to the next quarter.\n",
    "# Additionally, we have limited our selection to the top 100 beers by number\n",
    "# of reviews to avoid any bias from beers with only a few reviews.\n",
    "\n",
    "query = f\"\"\"\n",
    "    MATCH (b:BEERS {{retired:'{retired}'}})-[rv:REVIEWED]->(r:REVIEWS)\n",
    "    WITH b as top100, count(r.id) as cnt\n",
    "    order by cnt Desc\n",
    "    LIMIT 100\n",
    "\n",
    "    MATCH (top100)-[rvi:REVIEWED]->(re:REVIEWS)\n",
    "    where re.score <> 'nan' \n",
    "    RETURN top100.name, avg(toFloat(re.score)) as avgscore, count(*)\n",
    "    order by avgscore Desc\n",
    "    LIMIT 3\n",
    "    \"\"\"\n",
    "\n",
    "result = execute_read(driver, query)\n",
    "\n",
    "pprint(result)"
   ]
  }
 ],
 "metadata": {
  "hide_input": false,
  "kernelspec": {
   "display_name": "Python 3 (ipykernel)",
   "language": "python",
   "name": "python3"
  },
  "language_info": {
   "codemirror_mode": {
    "name": "ipython",
    "version": 3
   },
   "file_extension": ".py",
   "mimetype": "text/x-python",
   "name": "python",
   "nbconvert_exporter": "python",
   "pygments_lexer": "ipython3",
   "version": "3.9.12"
  },
  "toc": {
   "base_numbering": 1,
   "nav_menu": {},
   "number_sections": true,
   "sideBar": true,
   "skip_h1_title": false,
   "title_cell": "Table of Contents",
   "title_sidebar": "Contents",
   "toc_cell": false,
   "toc_position": {},
   "toc_section_display": true,
   "toc_window_display": false
  },
  "varInspector": {
   "cols": {
    "lenName": 16,
    "lenType": 16,
    "lenVar": 40
   },
   "kernels_config": {
    "python": {
     "delete_cmd_postfix": "",
     "delete_cmd_prefix": "del ",
     "library": "var_list.py",
     "varRefreshCmd": "print(var_dic_list())"
    },
    "r": {
     "delete_cmd_postfix": ") ",
     "delete_cmd_prefix": "rm(",
     "library": "var_list.r",
     "varRefreshCmd": "cat(var_dic_list()) "
    }
   },
   "types_to_exclude": [
    "module",
    "function",
    "builtin_function_or_method",
    "instance",
    "_Feature"
   ],
   "window_display": false
  }
 },
 "nbformat": 4,
 "nbformat_minor": 4
}
